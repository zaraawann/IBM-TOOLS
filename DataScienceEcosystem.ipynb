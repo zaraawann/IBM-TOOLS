{
 "cells": [
  {
   "cell_type": "markdown",
   "id": "6e5049ee-01fd-4f0c-8c07-3b5737f055ac",
   "metadata": {},
   "source": [
    "# Data Science Tools and Ecosystem\n"
   ]
  },
  {
   "cell_type": "markdown",
   "id": "8fe2c4ce-97ac-43d5-b75d-b19812966a3b",
   "metadata": {},
   "source": [
    "In this notebook, Data Science Tools and Ecosystem are summarized.\n"
   ]
  },
  {
   "cell_type": "markdown",
   "id": "690af2af-9cba-4522-9bf6-d5bf59ec1448",
   "metadata": {},
   "source": [
    "Some of the popular languages that Data Scientists use are:\n",
    "1. Python\n",
    "2. R\n",
    "3. Julia\n"
   ]
  },
  {
   "cell_type": "markdown",
   "id": "57889107-dd7d-49e3-8b5a-64c7d691f301",
   "metadata": {},
   "source": [
    "Some of the commonly used libraries used by Data Scientists include:\n",
    "1. Pandas\n",
    "2. NumPy\n",
    "3. Scikit-learn\n"
   ]
  },
  {
   "cell_type": "markdown",
   "id": "98780951-6781-4fbc-a1e5-ef88eebcaaaa",
   "metadata": {},
   "source": [
    "| Data Science Tools      |\n",
    "|-------------------------|\n",
    "| Jupyter                 |\n",
    "| RStudio                 |\n",
    "| VS Code with Python      |\n"
   ]
  },
  {
   "cell_type": "markdown",
   "id": "0c63ac0c-dd42-4353-bc0a-df72ed5f70c8",
   "metadata": {},
   "source": [
    "### Examples of Arithmetic Expressions in Python\n",
    "\n",
    "Below are a few examples of evaluating arithmetic expressions in Python.\n"
   ]
  },
  {
   "cell_type": "code",
   "execution_count": 5,
   "id": "86583aeb-182a-4774-8a7e-d4f9a2fa799f",
   "metadata": {},
   "outputs": [
    {
     "data": {
      "text/plain": [
       "17"
      ]
     },
     "execution_count": 5,
     "metadata": {},
     "output_type": "execute_result"
    }
   ],
   "source": [
    "# This is a simple arithmetic expression to multiply then add integers.\n",
    "result = (3 * 4) + 5\n",
    "result\n"
   ]
  },
  {
   "cell_type": "code",
   "execution_count": 4,
   "id": "fc2de7a5-0824-45bf-aae8-b69e0da1b89e",
   "metadata": {},
   "outputs": [
    {
     "data": {
      "text/plain": [
       "3.3333333333333335"
      ]
     },
     "execution_count": 4,
     "metadata": {},
     "output_type": "execute_result"
    }
   ],
   "source": [
    "# This will convert 200 minutes to hours by dividing by 60.\n",
    "minutes = 200\n",
    "hours = minutes / 60\n",
    "hours\n"
   ]
  },
  {
   "cell_type": "markdown",
   "id": "9583d540-002e-4c92-b457-54fd7723beab",
   "metadata": {},
   "source": [
    "**Objectives:**\n",
    "- List popular languages for Data Science.\n",
    "- Highlight common libraries used in Data Science.\n",
    "- Showcase popular tools for Data Science development.\n"
   ]
  },
  {
   "cell_type": "markdown",
   "id": "1693fb05-7fb9-41c2-b2fc-750ff4c92738",
   "metadata": {},
   "source": [
    "## Author\n",
    "ZARA\n"
   ]
  },
  {
   "cell_type": "code",
   "execution_count": null,
   "id": "a6a0e022-5cdc-43ef-bbc8-8fb75674f388",
   "metadata": {},
   "outputs": [],
   "source": []
  }
 ],
 "metadata": {
  "kernelspec": {
   "display_name": "Python 3 (ipykernel)",
   "language": "python",
   "name": "python3"
  },
  "language_info": {
   "codemirror_mode": {
    "name": "ipython",
    "version": 3
   },
   "file_extension": ".py",
   "mimetype": "text/x-python",
   "name": "python",
   "nbconvert_exporter": "python",
   "pygments_lexer": "ipython3",
   "version": "3.11.7"
  }
 },
 "nbformat": 4,
 "nbformat_minor": 5
}
